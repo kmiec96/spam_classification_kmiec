{
 "cells": [
  {
   "cell_type": "markdown",
   "metadata": {},
   "source": [
    "# Spam/ham classification"
   ]
  },
  {
   "cell_type": "markdown",
   "metadata": {},
   "source": [
    "In this assignment you will train a classifier to recognise spam emails. The data was taken from this [enron spam](https://www.kaggle.com/wanderfj/enron-spam)  kaggle dataset. The dataset is described [here](https://www.researchgate.net/publication/221650814_Spam_Filtering_with_Naive_Bayes_-_Which_Naive_Bayes). This will familiarize you with tools  for text analysis  from  the scikit-learn library. \n",
    "\n",
    "The data is provided as a zip archive \"enron_spam.zip\". You can unpack it with command `unzip enron_spam.zip` which will create a directory `data`. "
   ]
  },
  {
   "cell_type": "markdown",
   "metadata": {},
   "source": [
    "The data  consists of 6 batches of emails. Each batch corresponds to different person and different spam source. Each batch is stored in different subdirectory of `data` named `Enron_1` to `Enron_6`. Each email is stored in separate file :( Spam and ham emails are stored in different subdirectories. Fortunatelly the scikit-learn library provides a functiona `load_files` that can read data in this format. "
   ]
  },
  {
   "cell_type": "markdown",
   "metadata": {},
   "source": [
    "# ALL LIBRARIES NEEDED"
   ]
  },
  {
   "cell_type": "code",
   "execution_count": 116,
   "metadata": {},
   "outputs": [
    {
     "name": "stdout",
     "output_type": "stream",
     "text": [
      "DONE\n"
     ]
    }
   ],
   "source": [
    "import numpy as np\n",
    "import pandas as pd\n",
    "import matplotlib.pyplot as plt\n",
    "from sklearn.datasets import load_files\n",
    "from sklearn.model_selection import train_test_split\n",
    "from sklearn.naive_bayes import MultinomialNB\n",
    "from sklearn.feature_extraction.text import CountVectorizer\n",
    "from sklearn.metrics import accuracy_score\n",
    "from sklearn.metrics import roc_curve, roc_auc_score\n",
    "from sklearn.metrics import confusion_matrix, plot_confusion_matrix\n",
    "from sklearn.metrics import f1_score, precision_score, recall_score\n",
    "print(\"DONE\")"
   ]
  },
  {
   "cell_type": "markdown",
   "metadata": {},
   "source": [
    "You can load data from given batch using the function"
   ]
  },
  {
   "cell_type": "code",
   "execution_count": 117,
   "metadata": {},
   "outputs": [
    {
     "name": "stdout",
     "output_type": "stream",
     "text": [
      "DONE\n"
     ]
    }
   ],
   "source": [
    "data1 = load_files('enron_spam/data/Enron_1/', encoding='latin-1', shuffle=True, categories=['ham', 'spam'] )\n",
    "print(\"DONE\")"
   ]
  },
  {
   "cell_type": "markdown",
   "metadata": {},
   "source": [
    "It returns a python dictionary. The entry 'data' contains the data from files and the entry 'target' contains the labels assigned according to the subdirectory names. The labels are integers and corresponding names can be found in the entry 'target_names'."
   ]
  },
  {
   "cell_type": "code",
   "execution_count": 118,
   "metadata": {},
   "outputs": [
    {
     "data": {
      "text/plain": [
       "4137"
      ]
     },
     "execution_count": 118,
     "metadata": {},
     "output_type": "execute_result"
    }
   ],
   "source": [
    "len(data1['data'])"
   ]
  },
  {
   "cell_type": "code",
   "execution_count": 119,
   "metadata": {},
   "outputs": [
    {
     "data": {
      "text/plain": [
       "[\"Subject: re : cornhusker deal\\r\\nrita ,\\r\\nthings have been changing daily on this thing , so we were waiting to get it\\r\\nall figured out .\\r\\ni did tell mark mccoy to handle this , and he is going to get you all the\\r\\ninformation right after\\r\\nthe long weekend . hope this helps . pat\\r\\nrita wynne @ ect\\r\\n08 / 31 / 2000 05 : 25 pm\\r\\nto : pat clynes / corp / enron @ enron , daren j farmer / hou / ect @ ect\\r\\ncc :\\r\\nsubject : cornhusker deal\\r\\nhey guys ,\\r\\ni need to be bought up to speed on the cornhusker deal . i don ' t know what\\r\\nthe impact is to my group or what we should expect to see in terms of\\r\\nallocations or settlements . any info . either of you can provide would be\\r\\nappreciated . thanks and have a great holiday !\",\n",
       " 'Subject: enron / hpl actuals for sept . 18 , 2000\\r\\nls hpl lsk ic 2 . 500 / enron']"
      ]
     },
     "execution_count": 119,
     "metadata": {},
     "output_type": "execute_result"
    }
   ],
   "source": [
    "data1['data'][:2]"
   ]
  },
  {
   "cell_type": "code",
   "execution_count": 120,
   "metadata": {},
   "outputs": [
    {
     "data": {
      "text/plain": [
       "4137"
      ]
     },
     "execution_count": 120,
     "metadata": {},
     "output_type": "execute_result"
    }
   ],
   "source": [
    "len(data1['target'])"
   ]
  },
  {
   "cell_type": "code",
   "execution_count": 121,
   "metadata": {},
   "outputs": [
    {
     "data": {
      "text/plain": [
       "array([0, 0])"
      ]
     },
     "execution_count": 121,
     "metadata": {},
     "output_type": "execute_result"
    }
   ],
   "source": [
    "data1['target'][:2]"
   ]
  },
  {
   "cell_type": "code",
   "execution_count": 122,
   "metadata": {},
   "outputs": [
    {
     "data": {
      "text/plain": [
       "['ham', 'spam']"
      ]
     },
     "execution_count": 122,
     "metadata": {},
     "output_type": "execute_result"
    }
   ],
   "source": [
    "data1['target_names']"
   ]
  },
  {
   "cell_type": "markdown",
   "metadata": {},
   "source": [
    "## Problems "
   ]
  },
  {
   "cell_type": "markdown",
   "metadata": {},
   "source": [
    "1. Train the multinomial bayes classifier using scikit-learn  for the first batch of data in data/Enron_1 as described in text_analysis notebook.\n",
    "    1. Set asside 20% of data for testings and train the multinomial bayes classifier using the remaining 80% of data.This requires  transforming the data to feature vectors using CountVectoriser  from scikit-learn. How big is the resulting vocabulary ? \n",
    "    1. Using the test set \n",
    "        1. Draw the confusion matrix using `plot_confusion_matrix` from scikit-learn (see the latest update of the text_analysis notebook) using the test set. \n",
    "        1. Calculate recall and precision scores. \n",
    "        1. Draw the ROC curve and calculate the AUC score  using the test set. \n",
    "        1. What percentage of valid mails is classified as spam?\n",
    "        1. Assuming that only mails classified as ham are put in our mailbox what percentage of mail in our inbox is spam?\n",
    "        \n",
    "    1. Find ten most probable and least probable words for each class.     \n",
    "    1. Check the classifier on the remaining datasets data/Enron_2-6. For each set calculate recall and precision. \n",
    "    1. Combine all sets.  Train a new classifier on the combined  set, of course after dividing into test and train sets. Redo point B. using this classifier and combined test set. \n",
    "    1. Assumimg that we want to keep the frequency of misclassified ham mails belowe 5 per file, what would be the percentage of spam in our inbox?\n",
    "   "
   ]
  },
  {
   "cell_type": "markdown",
   "metadata": {},
   "source": [
    "__Hint__ You can create a dataframe from the data using"
   ]
  },
  {
   "cell_type": "code",
   "execution_count": 123,
   "metadata": {},
   "outputs": [
    {
     "name": "stdout",
     "output_type": "stream",
     "text": [
      "DONE\n"
     ]
    }
   ],
   "source": [
    "df1 = pd.DataFrame({'text': data1['data'], 'spam': data1['target']})\n",
    "print(\"DONE\")"
   ]
  },
  {
   "cell_type": "code",
   "execution_count": 124,
   "metadata": {},
   "outputs": [
    {
     "data": {
      "text/plain": [
       "0    2937\n",
       "1    1200\n",
       "Name: spam, dtype: int64"
      ]
     },
     "execution_count": 124,
     "metadata": {},
     "output_type": "execute_result"
    }
   ],
   "source": [
    "df1.spam.value_counts()"
   ]
  },
  {
   "cell_type": "code",
   "execution_count": 125,
   "metadata": {},
   "outputs": [
    {
     "data": {
      "text/html": [
       "<div>\n",
       "<style scoped>\n",
       "    .dataframe tbody tr th:only-of-type {\n",
       "        vertical-align: middle;\n",
       "    }\n",
       "\n",
       "    .dataframe tbody tr th {\n",
       "        vertical-align: top;\n",
       "    }\n",
       "\n",
       "    .dataframe thead th {\n",
       "        text-align: right;\n",
       "    }\n",
       "</style>\n",
       "<table border=\"1\" class=\"dataframe\">\n",
       "  <thead>\n",
       "    <tr style=\"text-align: right;\">\n",
       "      <th></th>\n",
       "      <th>text</th>\n",
       "      <th>spam</th>\n",
       "    </tr>\n",
       "  </thead>\n",
       "  <tbody>\n",
       "    <tr>\n",
       "      <th>0</th>\n",
       "      <td>Subject: re : cornhusker deal\\r\\nrita ,\\r\\nthi...</td>\n",
       "      <td>0</td>\n",
       "    </tr>\n",
       "    <tr>\n",
       "      <th>1</th>\n",
       "      <td>Subject: enron / hpl actuals for sept . 18 , 2...</td>\n",
       "      <td>0</td>\n",
       "    </tr>\n",
       "    <tr>\n",
       "      <th>2</th>\n",
       "      <td>Subject: fw : teco / frontera financial trades...</td>\n",
       "      <td>0</td>\n",
       "    </tr>\n",
       "    <tr>\n",
       "      <th>3</th>\n",
       "      <td>Subject: jan . 01 sale to texas general land o...</td>\n",
       "      <td>0</td>\n",
       "    </tr>\n",
       "    <tr>\n",
       "      <th>4</th>\n",
       "      <td>Subject: re : volume increase - hpl meter 68 -...</td>\n",
       "      <td>0</td>\n",
       "    </tr>\n",
       "    <tr>\n",
       "      <th>5</th>\n",
       "      <td>Subject: re : koch midstream services co\\r\\nti...</td>\n",
       "      <td>0</td>\n",
       "    </tr>\n",
       "    <tr>\n",
       "      <th>6</th>\n",
       "      <td>Subject: hpl meter # 981525 texoma d / p - gsu...</td>\n",
       "      <td>0</td>\n",
       "    </tr>\n",
       "    <tr>\n",
       "      <th>7</th>\n",
       "      <td>Subject: buy office xp for fifty bucks percent...</td>\n",
       "      <td>1</td>\n",
       "    </tr>\n",
       "  </tbody>\n",
       "</table>\n",
       "</div>"
      ],
      "text/plain": [
       "                                                text  spam\n",
       "0  Subject: re : cornhusker deal\\r\\nrita ,\\r\\nthi...     0\n",
       "1  Subject: enron / hpl actuals for sept . 18 , 2...     0\n",
       "2  Subject: fw : teco / frontera financial trades...     0\n",
       "3  Subject: jan . 01 sale to texas general land o...     0\n",
       "4  Subject: re : volume increase - hpl meter 68 -...     0\n",
       "5  Subject: re : koch midstream services co\\r\\nti...     0\n",
       "6  Subject: hpl meter # 981525 texoma d / p - gsu...     0\n",
       "7  Subject: buy office xp for fifty bucks percent...     1"
      ]
     },
     "execution_count": 125,
     "metadata": {},
     "output_type": "execute_result"
    }
   ],
   "source": [
    "df1.head(8)"
   ]
  },
  {
   "cell_type": "code",
   "execution_count": 126,
   "metadata": {},
   "outputs": [
    {
     "data": {
      "text/plain": [
       "4137"
      ]
     },
     "execution_count": 126,
     "metadata": {},
     "output_type": "execute_result"
    }
   ],
   "source": [
    "len(df1)"
   ]
  },
  {
   "cell_type": "markdown",
   "metadata": {},
   "source": [
    "# PART: A\n",
    "#Set asside 20% of data for testings and train the multinomial bayes classifier using the remaining 80% of data.\n",
    "#This requires transforming the data to feature vectors using CountVectoriser from scikit-learn.\n",
    "#How big is the resulting vocabulary ? "
   ]
  },
  {
   "cell_type": "code",
   "execution_count": 127,
   "metadata": {},
   "outputs": [],
   "source": [
    "#Set aside 20% of data for testing!\n",
    "seed = 57576\n",
    "train_data, test_data = train_test_split(df1,train_size=0.8, test_size=0.2, stratify=df1['spam'], random_state = seed)"
   ]
  },
  {
   "cell_type": "code",
   "execution_count": 128,
   "metadata": {},
   "outputs": [
    {
     "data": {
      "text/plain": [
       "0    2349\n",
       "1     960\n",
       "Name: spam, dtype: int64"
      ]
     },
     "execution_count": 128,
     "metadata": {},
     "output_type": "execute_result"
    }
   ],
   "source": [
    "train_data.spam.value_counts()"
   ]
  },
  {
   "cell_type": "code",
   "execution_count": 129,
   "metadata": {},
   "outputs": [
    {
     "data": {
      "text/plain": [
       "0    588\n",
       "1    240\n",
       "Name: spam, dtype: int64"
      ]
     },
     "execution_count": 129,
     "metadata": {},
     "output_type": "execute_result"
    }
   ],
   "source": [
    "test_data.spam.value_counts()"
   ]
  },
  {
   "cell_type": "code",
   "execution_count": 130,
   "metadata": {},
   "outputs": [
    {
     "name": "stdout",
     "output_type": "stream",
     "text": [
      "MultinomialNB() accuracy score:\n",
      "0.9794685990338164\n",
      "\n",
      "Leangth of the created vocabulary:\n",
      "37931\n"
     ]
    }
   ],
   "source": [
    "#Tokenization\n",
    "vectorizer = CountVectorizer(stop_words='english')\n",
    "train_spam_score = vectorizer.fit_transform(train_data.text)\n",
    "test_spam_score = vectorizer.transform(test_data.text)\n",
    "\n",
    "#Multinomial Bayes classification\n",
    "base_spam_classifier = MultinomialNB()\n",
    "base_spam_classifier.fit(train_spam_score, train_data.spam)\n",
    "\n",
    "#Accuracy score of MultinomialNB() classifier\n",
    "print(\"MultinomialNB() accuracy score:\")\n",
    "base_predicted = base_spam_classifier.predict(test_spam_score)\n",
    "base_predicted_proba = base_spam_classifier.predict_proba(test_spam_score)\n",
    "\n",
    "print(accuracy_score(test_data.spam, base_predicted))\n",
    "\n",
    "#Print vocabulaty size\n",
    "print(\"\\nLeangth of the created vocabulary:\")\n",
    "print(len(vectorizer.vocabulary_))\n"
   ]
  },
  {
   "cell_type": "markdown",
   "metadata": {},
   "source": [
    "# PART: B\n",
    "#Using the test set:\n",
    "\n",
    "#a). Draw the confusion matrix using plot_confusion_matrix from scikit-learn\n",
    "#(see the latest update of the text_analysis notebook) using the test set.\n",
    "\n",
    "#b). Calculate recall and precision scores.\n",
    "\n",
    "#c). Draw the ROC curve and calculate the AUC score using the test set.\n",
    "\n",
    "#d). What percentage of valid mails is classified as spam?\n",
    "\n",
    "#e). Assuming that only mails classified as ham are put in our mailbox what percentage of mail\n",
    "#in our inbox is spam?\n"
   ]
  },
  {
   "cell_type": "code",
   "execution_count": 131,
   "metadata": {},
   "outputs": [
    {
     "data": {
      "image/png": "[encoded data removed]",
      "text/plain": [
       "<Figure size 432x288 with 2 Axes>"
      ]
     },
     "metadata": {
      "needs_background": "light"
     },
     "output_type": "display_data"
    }
   ],
   "source": [
    "#PART B a).Draw the confusion matrix using plot_confusion_matrix from scikit-learn\n",
    "fig, ax = plt.subplots(figsize=(6,4))\n",
    "disp = plot_confusion_matrix(base_spam_classifier, test_spam_score, test_data.spam, normalize='true', ax=ax);"
   ]
  },
  {
   "cell_type": "code",
   "execution_count": 132,
   "metadata": {},
   "outputs": [
    {
     "name": "stdout",
     "output_type": "stream",
     "text": [
      "precision score: 0.975623530414645\n",
      "recall score:    0.9744472789115646\n",
      "f1 score:        0.9750329470736081\n"
     ]
    }
   ],
   "source": [
    "#PART B b). Calculate recall and precision scores.\n",
    "print(\"precision score:\", precision_score(test_data.spam, base_predicted, average='macro'))\n",
    "print(\"recall score:   \", recall_score(test_data.spam, base_predicted, average='macro'))\n",
    "print(\"f1 score:       \", f1_score(test_data.spam, base_predicted, average='macro'))"
   ]
  },
  {
   "cell_type": "code",
   "execution_count": 133,
   "metadata": {},
   "outputs": [
    {
     "name": "stdout",
     "output_type": "stream",
     "text": [
      "----ROC----RECEIVER---OPERATOR---CHARACTERSTIC----\n",
      "\n",
      "When prob>threshold => return 1 else return 0.\n",
      "Prob tresholds:\n",
      " [2.00000000e+000 1.00000000e+000 1.00000000e+000 1.00000000e+000\n",
      " 1.00000000e+000 1.00000000e+000 1.00000000e+000 9.99992336e-001\n",
      " 9.99992323e-001 9.98329240e-001 9.98265537e-001 9.71333110e-001\n",
      " 9.69931471e-001 9.39337019e-001 9.22071594e-001 6.43328048e-001\n",
      " 6.17304073e-001 3.79856517e-001 3.58025681e-001 2.49705762e-001\n",
      " 1.71478692e-001 1.52966761e-001 1.26585659e-001 6.06448975e-002\n",
      " 5.77389141e-002 7.53574958e-006 7.03037451e-006 1.24542679e-012\n",
      " 1.05988586e-012 9.46134283e-029 8.65004227e-029 3.72756772e-032\n",
      " 2.50257063e-032 1.43279037e-322 0.00000000e+000]\n"
     ]
    },
    {
     "data": {
      "image/png": "[encoded data removed]",
      "text/plain": [
       "<Figure size 432x288 with 1 Axes>"
      ]
     },
     "metadata": {
      "needs_background": "light"
     },
     "output_type": "display_data"
    },
    {
     "name": "stdout",
     "output_type": "stream",
     "text": [
      "----AUC----AREA---UNDER---CURVE-------------------\n",
      "\n",
      "0.996984835600907\n"
     ]
    }
   ],
   "source": [
    "#PART B c). Draw ROC curve and calculate AUC score using test set.\n",
    "print(\"----ROC----RECEIVER---OPERATOR---CHARACTERSTIC----\\n\")\n",
    "fpr, tpr, thresholds = roc_curve(test_data.spam, base_predicted_proba[:,1])\n",
    "print(\"When prob>threshold => return 1 else return 0.\")\n",
    "print(\"Prob tresholds:\\n\",thresholds)\n",
    "plt.plot(fpr,tpr)\n",
    "plt.show()\n",
    "print(\"----AUC----AREA---UNDER---CURVE-------------------\\n\")\n",
    "print(roc_auc_score(test_data.spam, base_predicted_proba[:,1]))"
   ]
  },
  {
   "cell_type": "code",
   "execution_count": 134,
   "metadata": {},
   "outputs": [
    {
     "name": "stdout",
     "output_type": "stream",
     "text": [
      "Percentage of valid mails classified as spam (FPR): 1.3605%\n"
     ]
    }
   ],
   "source": [
    "#PART B d). What percentage of valid mails is spam?\n",
    "#In other words we are looking for FPR, where positive means spam.\n",
    "ham_mails_as_spam = np.count_nonzero(base_predicted[np.where(test_data.spam==0)]==1)\n",
    "ham_mails = len(base_predicted[np.where(test_data.spam==0)])\n",
    "print(\"Percentage of valid mails classified as spam (FPR): {0:.4%}\".format(ham_mails_as_spam/ham_mails))"
   ]
  },
  {
   "cell_type": "code",
   "execution_count": 135,
   "metadata": {},
   "outputs": [
    {
     "name": "stdout",
     "output_type": "stream",
     "text": [
      "Percentage of spam among mails classified as ham: 1.5280%\n"
     ]
    }
   ],
   "source": [
    "#PART B e). Assuming that only mails classified as ham are put \n",
    "#in our mailbox what percentage of mail in our inbox is spam?\n",
    "\n",
    "spam_mails_as_ham= np.count_nonzero(base_predicted[np.where(test_data.spam==1)]==0)\n",
    "as_ham_mails = np.count_nonzero(base_predicted==0)\n",
    "\n",
    "print(\"Percentage of spam among mails classified as ham: {0:.4%}\".format(spam_mails_as_ham/as_ham_mails))"
   ]
  },
  {
   "cell_type": "markdown",
   "metadata": {},
   "source": [
    "# PART: C"
   ]
  },
  {
   "cell_type": "code",
   "execution_count": 136,
   "metadata": {},
   "outputs": [
    {
     "name": "stdout",
     "output_type": "stream",
     "text": [
      "10 most probable words in spam 1 and ham 0:\n"
     ]
    },
    {
     "data": {
      "text/html": [
       "<div>\n",
       "<style scoped>\n",
       "    .dataframe tbody tr th:only-of-type {\n",
       "        vertical-align: middle;\n",
       "    }\n",
       "\n",
       "    .dataframe tbody tr th {\n",
       "        vertical-align: top;\n",
       "    }\n",
       "\n",
       "    .dataframe thead th {\n",
       "        text-align: right;\n",
       "    }\n",
       "</style>\n",
       "<table border=\"1\" class=\"dataframe\">\n",
       "  <thead>\n",
       "    <tr style=\"text-align: right;\">\n",
       "      <th></th>\n",
       "      <th>1</th>\n",
       "      <th>2</th>\n",
       "      <th>3</th>\n",
       "      <th>4</th>\n",
       "      <th>5</th>\n",
       "      <th>6</th>\n",
       "      <th>7</th>\n",
       "      <th>8</th>\n",
       "      <th>9</th>\n",
       "      <th>10</th>\n",
       "    </tr>\n",
       "  </thead>\n",
       "  <tbody>\n",
       "    <tr>\n",
       "      <th>0</th>\n",
       "      <td>ect</td>\n",
       "      <td>hou</td>\n",
       "      <td>subject</td>\n",
       "      <td>enron</td>\n",
       "      <td>2000</td>\n",
       "      <td>gas</td>\n",
       "      <td>deal</td>\n",
       "      <td>meter</td>\n",
       "      <td>hpl</td>\n",
       "      <td>cc</td>\n",
       "    </tr>\n",
       "    <tr>\n",
       "      <th>1</th>\n",
       "      <td>subject</td>\n",
       "      <td>com</td>\n",
       "      <td>http</td>\n",
       "      <td>company</td>\n",
       "      <td>font</td>\n",
       "      <td>td</td>\n",
       "      <td>www</td>\n",
       "      <td>00</td>\n",
       "      <td>information</td>\n",
       "      <td>statements</td>\n",
       "    </tr>\n",
       "  </tbody>\n",
       "</table>\n",
       "</div>"
      ],
      "text/plain": [
       "         1    2        3        4     5    6     7      8            9  \\\n",
       "0      ect  hou  subject    enron  2000  gas  deal  meter          hpl   \n",
       "1  subject  com     http  company  font   td   www     00  information   \n",
       "\n",
       "           10  \n",
       "0          cc  \n",
       "1  statements  "
      ]
     },
     "execution_count": 136,
     "metadata": {},
     "output_type": "execute_result"
    }
   ],
   "source": [
    "#PART C \n",
    "#Find ten most probable and least probable words for each class. \n",
    "n = 10 \n",
    "\n",
    "def word(i):\n",
    "    return vectorizer.get_feature_names()[i]\n",
    "\n",
    "word = np.vectorize(word)\n",
    "most_probable = np.argsort(base_spam_classifier.feature_log_prob_,axis=1)[:,-1:-n-1:-1]\n",
    "most_probable_words = word(most_probable)\n",
    "print(\"10 most probable words in spam 1 and ham 0:\")\n",
    "pd.DataFrame(most_probable_words, index =[0,1], columns=range(1,11))"
   ]
  },
  {
   "cell_type": "code",
   "execution_count": 137,
   "metadata": {},
   "outputs": [
    {
     "name": "stdout",
     "output_type": "stream",
     "text": [
      "10 least probable words in spam 1 and ham 0:\n"
     ]
    },
    {
     "data": {
      "text/html": [
       "<div>\n",
       "<style scoped>\n",
       "    .dataframe tbody tr th:only-of-type {\n",
       "        vertical-align: middle;\n",
       "    }\n",
       "\n",
       "    .dataframe tbody tr th {\n",
       "        vertical-align: top;\n",
       "    }\n",
       "\n",
       "    .dataframe thead th {\n",
       "        text-align: right;\n",
       "    }\n",
       "</style>\n",
       "<table border=\"1\" class=\"dataframe\">\n",
       "  <thead>\n",
       "    <tr style=\"text-align: right;\">\n",
       "      <th></th>\n",
       "      <th>1</th>\n",
       "      <th>2</th>\n",
       "      <th>3</th>\n",
       "      <th>4</th>\n",
       "      <th>5</th>\n",
       "      <th>6</th>\n",
       "      <th>7</th>\n",
       "      <th>8</th>\n",
       "      <th>9</th>\n",
       "      <th>10</th>\n",
       "    </tr>\n",
       "  </thead>\n",
       "  <tbody>\n",
       "    <tr>\n",
       "      <th>0</th>\n",
       "      <td>hyb</td>\n",
       "      <td>lunatics</td>\n",
       "      <td>lunary</td>\n",
       "      <td>lunar</td>\n",
       "      <td>lunacy</td>\n",
       "      <td>lumpish</td>\n",
       "      <td>lummox</td>\n",
       "      <td>luminosity</td>\n",
       "      <td>luminescent</td>\n",
       "      <td>luminance</td>\n",
       "    </tr>\n",
       "    <tr>\n",
       "      <th>1</th>\n",
       "      <td>replacement</td>\n",
       "      <td>loring</td>\n",
       "      <td>lorio</td>\n",
       "      <td>bolt</td>\n",
       "      <td>loses</td>\n",
       "      <td>bombeck</td>\n",
       "      <td>feeding</td>\n",
       "      <td>feedbacks</td>\n",
       "      <td>bonaire</td>\n",
       "      <td>sixth</td>\n",
       "    </tr>\n",
       "  </tbody>\n",
       "</table>\n",
       "</div>"
      ],
      "text/plain": [
       "             1         2       3      4       5        6        7           8  \\\n",
       "0          hyb  lunatics  lunary  lunar  lunacy  lumpish   lummox  luminosity   \n",
       "1  replacement    loring   lorio   bolt   loses  bombeck  feeding   feedbacks   \n",
       "\n",
       "             9         10  \n",
       "0  luminescent  luminance  \n",
       "1      bonaire      sixth  "
      ]
     },
     "execution_count": 137,
     "metadata": {},
     "output_type": "execute_result"
    }
   ],
   "source": [
    "least_probable = np.argsort(base_spam_classifier.feature_log_prob_,axis=1)[:,:n]\n",
    "least_probable_words = word(least_probable)\n",
    "print(\"10 least probable words in spam 1 and ham 0:\") \n",
    "pd.DataFrame(least_probable_words, index =[0,1], columns=range(1,11))"
   ]
  },
  {
   "cell_type": "markdown",
   "metadata": {},
   "source": [
    "# PART: D\n",
    "#Check the classifier on the remaining datasets data/Enron_2-6. For each set calculate recall and precision."
   ]
  },
  {
   "cell_type": "code",
   "execution_count": 138,
   "metadata": {},
   "outputs": [
    {
     "name": "stdout",
     "output_type": "stream",
     "text": [
      "DONE\n"
     ]
    }
   ],
   "source": [
    "data2 = load_files('enron_spam/data/Enron_2/', encoding='latin-1', shuffle=True, categories=['ham', 'spam'] )\n",
    "data3 = load_files('enron_spam/data/Enron_3/', encoding='latin-1', shuffle=True, categories=['ham', 'spam'] )\n",
    "data4 = load_files('enron_spam/data/Enron_4/', encoding='latin-1', shuffle=True, categories=['ham', 'spam'] )\n",
    "data5 = load_files('enron_spam/data/Enron_5/', encoding='latin-1', shuffle=True, categories=['ham', 'spam'] )\n",
    "data6 = load_files('enron_spam/data/Enron_6/', encoding='latin-1', shuffle=True, categories=['ham', 'spam'] )\n",
    "print(\"DONE\")"
   ]
  },
  {
   "cell_type": "code",
   "execution_count": 139,
   "metadata": {},
   "outputs": [
    {
     "name": "stdout",
     "output_type": "stream",
     "text": [
      "DONE\n"
     ]
    }
   ],
   "source": [
    "df2 = pd.DataFrame({'text': data2['data'], 'spam': data2['target']})\n",
    "df3 = pd.DataFrame({'text': data3['data'], 'spam': data3['target']})\n",
    "df4 = pd.DataFrame({'text': data4['data'], 'spam': data4['target']})\n",
    "df5 = pd.DataFrame({'text': data5['data'], 'spam': data5['target']})\n",
    "df6 = pd.DataFrame({'text': data6['data'], 'spam': data6['target']})\n",
    "\n",
    "dfi=[df2, df3, df4, df5, df6]\n",
    "print(\"DONE\")"
   ]
  },
  {
   "cell_type": "code",
   "execution_count": 140,
   "metadata": {},
   "outputs": [
    {
     "name": "stdout",
     "output_type": "stream",
     "text": [
      "precision score 1: 0.9085812893699179\n",
      "recall score    1: 0.9431016139354502\n",
      "f1 score        1: 0.9236795613069015\n",
      "precision score 2: 0.9500057060491564\n",
      "recall score    2: 0.9710417315882414\n",
      "f1 score        2: 0.9597455144719241\n",
      "precision score 3: 0.9279634710758599\n",
      "recall score    3: 0.9427719505418172\n",
      "f1 score        3: 0.9350238614063258\n",
      "precision score 4: 0.9408132735954624\n",
      "recall score    4: 0.9680697278911565\n",
      "f1 score        4: 0.9528214326511604\n",
      "precision score 5: 0.9515917046161199\n",
      "recall score    5: 0.9619444444444445\n",
      "f1 score        5: 0.9566128652465617\n"
     ]
    }
   ],
   "source": [
    "#PART B b). Calculate recall and precision scores.\n",
    "for i in range(5):\n",
    "    base_predicted_i = base_spam_classifier.predict(vectorizer.transform(dfi[i].text))\n",
    "    print(\"precision score {}:\".format(i+1), precision_score(dfi[i].spam, base_predicted_i, average='macro'))\n",
    "    print(\"recall score    {}:\".format(i+1), recall_score(dfi[i].spam, base_predicted_i, average='macro'))\n",
    "    print(\"f1 score        {}:\".format(i+1), f1_score(dfi[i].spam, base_predicted_i, average='macro'))"
   ]
  },
  {
   "cell_type": "markdown",
   "metadata": {},
   "source": [
    "# PART: E\n",
    "#Combine all sets. Train a new classifier on the combined set, of course after dividing into test and train sets. Redo point B. using this classifier and combined test set. "
   ]
  },
  {
   "cell_type": "code",
   "execution_count": 141,
   "metadata": {},
   "outputs": [
    {
     "name": "stdout",
     "output_type": "stream",
     "text": [
      "DONE\n"
     ]
    }
   ],
   "source": [
    "df1 = pd.DataFrame({'text': data1['data'], 'spam': data1['target']})\n",
    "dframe=[df1, df2, df3, df4, df5, df6]\n",
    "all_sets = pd.concat(dframe)\n",
    "print(\"DONE\")"
   ]
  },
  {
   "cell_type": "code",
   "execution_count": 142,
   "metadata": {},
   "outputs": [],
   "source": [
    "seed = 57576\n",
    "train_data_e, test_data_e = train_test_split(all_sets, train_size=0.8, test_size=0.2, stratify=all_sets['spam'], random_state = seed)"
   ]
  },
  {
   "cell_type": "code",
   "execution_count": 143,
   "metadata": {},
   "outputs": [
    {
     "name": "stdout",
     "output_type": "stream",
     "text": [
      "\n",
      "Leangth of the created vocabulary:\n",
      "127621\n",
      "precision score: 0.9855174863477401\n",
      "recall score:    0.985555145572826\n",
      "f1 score:        0.9855350954397932\n"
     ]
    },
    {
     "data": {
      "image/png": "[encoded data removed]",
      "text/plain": [
       "<Figure size 432x288 with 2 Axes>"
      ]
     },
     "metadata": {
      "needs_background": "light"
     },
     "output_type": "display_data"
    }
   ],
   "source": [
    "#Tokenization\n",
    "vectorizer_e = CountVectorizer(stop_words='english')\n",
    "train_spam_score_e = vectorizer_e.fit_transform(train_data_e.text)\n",
    "test_spam_score_e = vectorizer_e.transform(test_data_e.text)\n",
    "\n",
    "#Multinomial Bayes classification\n",
    "base_spam_classifier_e = MultinomialNB()\n",
    "base_spam_classifier_e.fit(train_spam_score_e, train_data_e.spam)\n",
    "\n",
    "base_predicted_e = base_spam_classifier_e.predict(test_spam_score_e)\n",
    "base_predicted_proba_e = base_spam_classifier_e.predict_proba(test_spam_score_e)\n",
    "\n",
    "#Print vocabulaty size\n",
    "print(\"\\nLeangth of the created vocabulary:\")\n",
    "print(len(vectorizer_e.vocabulary_))\n",
    "\n",
    "#------------------------------------------------------------------------------------#\n",
    "#------------------------------------REDO B------------------------------------------#\n",
    "#------------------------------------------------------------------------------------#\n",
    "\n",
    "#PART E a).Draw the confusion matrix using plot_confusion_matrix from scikit-learn\n",
    "fig_e, ax_e = plt.subplots(figsize=(6,4))\n",
    "disp_e = plot_confusion_matrix(base_spam_classifier_e, test_spam_score_e, test_data_e.spam, normalize='true', ax=ax_e);\n",
    "\n",
    "#PART E b). Calculate recall and precision scores.\n",
    "print(\"precision score:\", precision_score(test_data_e.spam, base_predicted_e, average='macro'))\n",
    "print(\"recall score:   \", recall_score(test_data_e.spam, base_predicted_e, average='macro'))\n",
    "print(\"f1 score:       \", f1_score(test_data_e.spam, base_predicted_e, average='macro'))"
   ]
  },
  {
   "cell_type": "code",
   "execution_count": 144,
   "metadata": {},
   "outputs": [
    {
     "name": "stdout",
     "output_type": "stream",
     "text": [
      "----ROC----RECEIVER---OPERATOR---CHARACTERSTIC----\n",
      "\n",
      "When prob>threshold => return 1 else return 0.\n",
      "Prob tresholds:\n",
      " [2.00000000e+000 1.00000000e+000 1.00000000e+000 1.00000000e+000\n",
      " 1.00000000e+000 1.00000000e+000 1.00000000e+000 1.00000000e+000\n",
      " 1.00000000e+000 1.00000000e+000 1.00000000e+000 1.00000000e+000\n",
      " 1.00000000e+000 1.00000000e+000 1.00000000e+000 1.00000000e+000\n",
      " 1.00000000e+000 1.00000000e+000 1.00000000e+000 1.00000000e+000\n",
      " 1.00000000e+000 1.00000000e+000 1.00000000e+000 1.00000000e+000\n",
      " 1.00000000e+000 1.00000000e+000 1.00000000e+000 1.00000000e+000\n",
      " 1.00000000e+000 1.00000000e+000 1.00000000e+000 1.00000000e+000\n",
      " 1.00000000e+000 1.00000000e+000 1.00000000e+000 1.00000000e+000\n",
      " 1.00000000e+000 1.00000000e+000 1.00000000e+000 1.00000000e+000\n",
      " 1.00000000e+000 1.00000000e+000 9.99999997e-001 9.99999997e-001\n",
      " 9.99999995e-001 9.99999994e-001 9.99999992e-001 9.99999991e-001\n",
      " 9.99999983e-001 9.99999982e-001 9.99999980e-001 9.99999979e-001\n",
      " 9.99999974e-001 9.99999974e-001 9.99999970e-001 9.99999970e-001\n",
      " 9.99999944e-001 9.99999944e-001 9.99999935e-001 9.99999933e-001\n",
      " 9.99999931e-001 9.99999929e-001 9.99999905e-001 9.99999901e-001\n",
      " 9.99999832e-001 9.99999827e-001 9.99999597e-001 9.99999589e-001\n",
      " 9.99999075e-001 9.99999041e-001 9.99997831e-001 9.99997814e-001\n",
      " 9.99993390e-001 9.99993357e-001 9.99993288e-001 9.99993254e-001\n",
      " 9.99992372e-001 9.99991993e-001 9.99989650e-001 9.99989648e-001\n",
      " 9.99987746e-001 9.99987609e-001 9.99975162e-001 9.99975104e-001\n",
      " 9.99957195e-001 9.99954644e-001 9.99782328e-001 9.99765564e-001\n",
      " 9.99405343e-001 9.99401864e-001 9.98414147e-001 9.98370122e-001\n",
      " 9.97276508e-001 9.97069112e-001 9.96693911e-001 9.96342884e-001\n",
      " 9.96286095e-001 9.95966995e-001 9.94770043e-001 9.94760308e-001\n",
      " 9.93388084e-001 9.93334718e-001 9.90123345e-001 9.89916606e-001\n",
      " 9.82938813e-001 9.82361226e-001 9.71380745e-001 9.67900766e-001\n",
      " 9.57449078e-001 9.55827782e-001 9.53096686e-001 9.52237553e-001\n",
      " 9.15073597e-001 9.14338827e-001 8.92085722e-001 8.84162019e-001\n",
      " 8.30693502e-001 8.29172316e-001 8.11940142e-001 8.07728498e-001\n",
      " 8.00424075e-001 7.88524129e-001 7.85948910e-001 7.43993821e-001\n",
      " 7.32417421e-001 5.25782118e-001 5.17903791e-001 5.15389258e-001\n",
      " 4.69089529e-001 4.29291153e-001 3.87782077e-001 3.59263928e-001\n",
      " 3.47500969e-001 3.32523228e-001 3.21286372e-001 2.97019268e-001\n",
      " 2.85601398e-001 1.93518586e-001 1.91213729e-001 1.67785654e-001\n",
      " 1.62974719e-001 1.53675779e-001 1.38820880e-001 1.04669046e-001\n",
      " 9.42430432e-002 7.45270830e-002 5.62355300e-002 5.47760677e-002\n",
      " 5.41528482e-002 5.26296062e-002 4.74196149e-002 2.76843432e-002\n",
      " 2.48712303e-002 1.77664867e-002 1.63396226e-002 1.20028770e-002\n",
      " 8.55731536e-003 6.57151202e-003 6.35293901e-003 5.29115187e-003\n",
      " 5.15844044e-003 1.44514257e-004 1.39334592e-004 3.68053081e-005\n",
      " 3.10130654e-005 1.37167144e-005 1.32438066e-005 5.99890135e-008\n",
      " 5.67178668e-008 1.65059647e-008 1.55324957e-008 1.50873102e-011\n",
      " 1.47228300e-011 2.58359322e-015 2.51881589e-015 7.82375493e-016\n",
      " 7.38917626e-016 2.09003544e-017 1.77082032e-017 1.18115801e-017\n",
      " 1.17591885e-017 7.67917731e-018 7.61443073e-018 1.30689448e-018\n",
      " 1.30029641e-018 2.52781555e-019 2.50514649e-019 7.91636172e-020\n",
      " 7.43018908e-020 6.33102291e-023 6.29872523e-023 3.19236957e-026\n",
      " 2.67121932e-026 1.00060032e-027 9.35233198e-028 1.35389935e-035\n",
      " 1.17004912e-035 4.23840323e-036 4.06111887e-036 2.87665295e-036\n",
      " 2.86450851e-036 1.49582502e-036 1.40796346e-036 1.36120683e-036\n",
      " 1.06333964e-036 1.05305615e-036 1.04161132e-036 1.01982982e-036\n",
      " 8.51367688e-037 8.09113684e-037 5.05260880e-037 4.20316950e-037\n",
      " 1.48883778e-037 1.26517879e-037 1.12639079e-037 9.75224470e-038\n",
      " 6.87361256e-039 6.69304333e-039 6.31024199e-055 5.39453262e-055\n",
      " 1.60107821e-058 1.46533364e-058 2.98109470e-060 2.88904253e-060\n",
      " 2.22260624e-069 1.35663808e-069 4.33952571e-070 3.79869047e-070\n",
      " 4.39256173e-075 4.32781337e-075 1.22363605e-077 8.35140628e-078\n",
      " 1.94106779e-091 1.30160751e-091 3.58992686e-117 3.34658953e-117\n",
      " 1.62875548e-151 1.56950945e-151 2.14448164e-169 8.35546321e-170\n",
      " 3.60020620e-176 3.48056481e-176 2.29114228e-189 1.34024225e-189\n",
      " 4.94065646e-323 0.00000000e+000]\n"
     ]
    },
    {
     "data": {
      "image/png": "[encoded data removed]",
      "text/plain": [
       "<Figure size 432x288 with 1 Axes>"
      ]
     },
     "metadata": {
      "needs_background": "light"
     },
     "output_type": "display_data"
    },
    {
     "name": "stdout",
     "output_type": "stream",
     "text": [
      "----AUC----AREA---UNDER---CURVE-------------------\n",
      "\n",
      "0.9961490427652022\n",
      "Percentage of valid mails classified as spam (FPR): 1%\n",
      "Percentage of spam among mails classified as ham: 2%\n"
     ]
    }
   ],
   "source": [
    "#PART E c). Draw ROC curve and calculate AUC score using test set.\n",
    "print(\"----ROC----RECEIVER---OPERATOR---CHARACTERSTIC----\\n\")\n",
    "fpr_e, tpr_e, thresholds_e = roc_curve(test_data_e.spam, base_predicted_proba_e[:,1])\n",
    "print(\"When prob>threshold => return 1 else return 0.\")\n",
    "print(\"Prob tresholds:\\n\",thresholds_e)\n",
    "plt.plot(fpr_e,tpr_e)\n",
    "plt.show()\n",
    "print(\"----AUC----AREA---UNDER---CURVE-------------------\\n\")\n",
    "print(roc_auc_score(test_data_e.spam, base_predicted_proba_e[:,1]))\n",
    "\n",
    "#PART E d). What percentage of valid mails is spam?\n",
    "#In other words we are looking for FPR, where positive means spam.\n",
    "ham_mails_as_spam_e = np.count_nonzero(base_predicted_e[np.where(test_data_e.spam==0)]==1)\n",
    "ham_mails_e = len(base_predicted_e[np.where(test_data_e.spam==0)])\n",
    "print(\"Percentage of valid mails classified as spam (FPR): {0:.0%}\".format(ham_mails_as_spam_e/ham_mails_e))\n",
    "\n",
    "#PART E e). Assuming that only mails classified as ham are put \n",
    "#in our mailbox what percentage of mail in our inbox is spam?\n",
    "\n",
    "spam_mails_as_ham_e= np.count_nonzero(base_predicted_e[np.where(test_data_e.spam==1)]==0)\n",
    "as_ham_mails_e = np.count_nonzero(base_predicted_e==0)\n",
    "\n",
    "print(\"Percentage of spam among mails classified as ham: {0:.0%}\".format(spam_mails_as_ham_e/as_ham_mails_e))"
   ]
  },
  {
   "cell_type": "markdown",
   "metadata": {},
   "source": [
    "# PART: F\n",
    "#Assumimg that we want to keep the frequency \n",
    "#of misclassified ham mails below 5 per mille,\n",
    "#what would be the percentage of spam in our inbox?"
   ]
  },
  {
   "cell_type": "code",
   "execution_count": 145,
   "metadata": {},
   "outputs": [
    {
     "name": "stdout",
     "output_type": "stream",
     "text": [
      "51\n",
      "0.004911220249338874\n"
     ]
    }
   ],
   "source": [
    "distance=abs(np.subtract(fpr_e,0.005))\n",
    "index=np.flatnonzero(distance == distance.min())[0]\n",
    "print(index)\n",
    "print(fpr_e[index])"
   ]
  },
  {
   "cell_type": "markdown",
   "metadata": {},
   "source": [
    "# Here I had a problem with a clear interpretation of the question.\n",
    "I am not sure whether we are expected to find the percentage of spam that (ends up!) in our inbox\n",
    "containing ham mails exclusively\n",
    "\n",
    "(procent całego spamu lądującego w skrzynce z ham: opcja 1)\n",
    "\n",
    "\n",
    "\n",
    "or maybe the percentage of spam in our inbox\n",
    "\n",
    "(procent jaki zajmuje spam w naszej skrzynce z ham: opcja 2).\n",
    "\n",
    " W przypadku opcji 1 wzór odpowiadający odpowiedzi będzie miał postać \n",
    "(1-tpr).\n",
    "\n",
    "\n",
    " W przypadku opcji 2 wzór odpowiadający odpowiedzi to (true_spam as ham)/(classified_as_ham).\n",
    " \n",
    " W związku z tymi wątpliwościami interpretacyjnymi wykonałem obie rzeczy!\n",
    " "
   ]
  },
  {
   "cell_type": "code",
   "execution_count": 185,
   "metadata": {},
   "outputs": [
    {
     "name": "stdout",
     "output_type": "stream",
     "text": [
      "Procent całego spamu jaki ląduje w naszej skrzynce to 16.0175%.\n"
     ]
    }
   ],
   "source": [
    "#opcja 1\n",
    "print(\"Procent całego spamu jaki ląduje w naszej skrzynce to {0:.4%}.\".format(1-tpr_e[index]))"
   ]
  },
  {
   "cell_type": "code",
   "execution_count": 184,
   "metadata": {},
   "outputs": [
    {
     "name": "stdout",
     "output_type": "stream",
     "text": [
      "Procent jaki zajmuje spam w skrzynce, do której wpadają tylko maile zaklasyfikowane jako ham: 14.3136%.\n"
     ]
    }
   ],
   "source": [
    "#opcja 2\n",
    "#Zauważmy, że (1-tpr)=(ture_spam as ham)/(true_spam)\n",
    "#Wystarczy więc wziąć (1-tpr)*(true_spam)/(classified_as_ham_mails)\n",
    "classified_as_ham_mails =np.sum(np.where(base_predicted_proba_e[:,1] < thresholds_e[index], 1, 0))\n",
    "true_spam = len(np.where(test_data_e.spam==1)[0])\n",
    "\n",
    "print(\"Procent jaki zajmuje spam w skrzynce, do której wpadają \\\n",
    "tylko maile zaklasyfikowane jako ham: {0:.4%}.\".format((1-tpr_e[index])*(true_spam/classified_as_ham_mails)))"
   ]
  },
  {
   "cell_type": "code",
   "execution_count": null,
   "metadata": {},
   "outputs": [],
   "source": []
  }
 ],
 "metadata": {
  "kernelspec": {
   "display_name": "Python 3",
   "language": "python",
   "name": "python3"
  },
  "language_info": {
   "codemirror_mode": {
    "name": "ipython",
    "version": 3
   },
   "file_extension": ".py",
   "mimetype": "text/x-python",
   "name": "python",
   "nbconvert_exporter": "python",
   "pygments_lexer": "ipython3",
   "version": "3.7.6"
  }
 },
 "nbformat": 4,
 "nbformat_minor": 4
}
